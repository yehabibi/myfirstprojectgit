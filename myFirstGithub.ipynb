{
 "cells": [
  {
   "cell_type": "markdown",
   "metadata": {},
   "source": [
    "<center>\n",
    "    <img src=\"https://cf-courses-data.s3.us.cloud-object-storage.appdomain.cloud/IBMDeveloperSkillsNetwork-DS0105EN-SkillsNetwork/labs/Module2/images/SN_web_lightmode.png\" width=\"300\" alt=\"cognitiveclass.ai logo\">\n",
    "</center>\n"
   ]
  },
  {
   "cell_type": "markdown",
   "metadata": {},
   "source": [
    "#### Add your code below following the instructions given in the course\n"
   ]
  },
  {
   "cell_type": "code",
   "execution_count": 1,
   "metadata": {},
   "outputs": [
    {
     "name": "stdout",
     "output_type": "stream",
     "text": [
      "30\n"
     ]
    }
   ],
   "source": [
    "a=10\n",
    "b=20\n",
    "print(a+b)\n"
   ]
  },
  {
   "cell_type": "code",
   "execution_count": 2,
   "metadata": {},
   "outputs": [],
   "source": [
    "# addition"
   ]
  },
  {
   "cell_type": "code",
   "execution_count": null,
   "metadata": {},
   "outputs": [],
   "source": []
  },
  {
   "cell_type": "markdown",
   "metadata": {},
   "source": [
    "# addition"
   ]
  },
  {
   "cell_type": "markdown",
   "metadata": {},
   "source": [
    "## ## Introduction\n",
    "\n",
    "This notebook explores the basics of linear regression using Python and scikit-learn. We will cover data loading, model training, and evaluation. The goal is to understand how to build and evaluate a simple linear regression model."
   ]
  },
  {
   "cell_type": "markdown",
   "metadata": {},
   "source": [
    "## Popular Data Science Languages\n",
    "\n",
    "Several programming languages are widely used in the field of data science. Here are some of the most popular ones:\n",
    "\n",
    "*   **Python:** Known for its extensive libraries like NumPy, Pandas, Scikit-learn, and TensorFlow, Python is a versatile and beginner-friendly language widely adopted in data analysis, machine learning, and deep learning.\n",
    "*   **R:** Specifically designed for statistical computing and graphics, R provides a rich ecosystem of packages for statistical modeling, data visualization, and bioinformatics.\n",
    "*   **SQL:** Essential for working with relational databases, SQL is used for data extraction, manipulation, and analysis.\n",
    "*   **Julia:** A high-performance language gaining popularity for its speed and efficiency in numerical and scientific computing.\n",
    "*   **Scala:** Often used with Apache Spark for large-scale data processing and distributed computing."
   ]
  },
  {
   "cell_type": "markdown",
   "metadata": {},
   "source": [
    "## Popular Data Science Libraries (Python)\n",
    "\n",
    "Python boasts a rich ecosystem of libraries that are essential for data science tasks. Here are some of the most widely used:\n",
    "\n",
    "*   **NumPy:** Provides support for arrays and matrices, along with a collection of mathematical functions for numerical computations.\n",
    "*   **Pandas:** Offers data structures like DataFrames and Series, which are designed for efficient data manipulation and analysis.\n",
    "*   **Scikit-learn:** A comprehensive library for machine learning, featuring various algorithms for classification, regression, clustering, and model selection.\n",
    "*   **Matplotlib:** A plotting library that allows for the creation of static, interactive, and animated visualizations in Python.\n",
    "*   **Seaborn:** Built on top of Matplotlib, Seaborn provides a higher-level interface for creating aesthetically pleasing and informative statistical graphics.\n",
    "*   **TensorFlow:** An open-source machine learning platform developed by Google, widely used for deep learning and other machine learning tasks.\n",
    "*   **PyTorch:** Another popular deep learning framework, known for its dynamic computation graph and ease of use.\n",
    "*   **Statsmodels:** Provides classes and functions for statistical modeling, including linear models, time series analysis, and hypothesis testing."
   ]
  },
  {
   "cell_type": "markdown",
   "metadata": {},
   "source": [
    "## Popular Data Science Tools\n",
    "\n",
    "| Tool                | Category                | Description                                                                                                                                                                                          |\n",
    "| :------------------ | :---------------------- | :---------------------------------------------------------------------------------------------------------------------------------------------------------------------------------------------------- |\n",
    "| Jupyter Notebooks   | Interactive Computing   | Web-based interactive development environment for creating and sharing documents that contain live code, equations, visualizations, and narrative text.                                                 |\n",
    "| Google Colab        | Interactive Computing   | Cloud-based Jupyter Notebook environment that requires no setup and provides free access to computing resources, including GPUs.                                                                      |\n",
    "| RStudio             | IDE (R)                 | Integrated development environment for R, providing tools for code editing, debugging, data visualization, and package management.                                                                    |\n",
    "| VS Code             | IDE (General Purpose)  | A versatile code editor with extensions for various programming languages, including Python and R, offering features like debugging, Git integration, and IntelliSense.                                |\n",
    "| Apache Spark        | Big Data Processing    | A unified analytics engine for large-scale data processing, offering APIs for various programming languages like Python (PySpark), Scala, Java, and R.                                                   |\n",
    "| Hadoop              | Big Data Storage       | A framework for distributed storage and processing of large datasets across clusters of computers.                                                                                                    |\n",
    "| Tableau             | Data Visualization      | A powerful data visualization tool that allows users to create interactive dashboards and reports from various data sources.                                                                           |\n",
    "| Power BI            | Data Visualization      | Microsoft's business analytics service that provides interactive visualizations and business intelligence capabilities.                                                                                |\n",
    "| SQL (various tools) | Database Management    | Structured Query Language used for managing and manipulating data in relational databases. Tools include MySQL, PostgreSQL, SQL Server, etc.                                                              |\n",
    "| Git                 | Version Control        | A distributed version control system for tracking changes in source code during software development. Essential for collaboration and managing code repositories.                                       |\n",
    "| Docker              | Containerization       | A platform for developing, shipping, and running applications in containers, providing consistent environments across different systems. Useful for deploying data science projects and managing dependencies. |\n",
    "| Kubernetes          | Container Orchestration | A system for automating deployment, scaling, and management of containerized applications. Often used in conjunction with Docker for managing large-scale deployments of data science applications. |"
   ]
  },
  {
   "cell_type": "markdown",
   "metadata": {},
   "source": [
    "## Arithmetic Expressions\n",
    "\n",
    "This section demonstrates various arithmetic expressions using common operators. Here's a quick overview of the operators we'll be using:\n",
    "\n",
    "| Operator | Description      | Example |\n",
    "| :------- | :--------------- | :------ |\n",
    "| +        | Addition         | 2 + 3   |\n",
    "| -        | Subtraction      | 5 - 1   |\n",
    "| *        | Multiplication   | 4 * 6   |\n",
    "| /        | Division         | 10 / 2  |\n",
    "| **       | Exponentiation   | 2 ** 3  |\n",
    "| %        | Modulus (Remainder) | 7 % 3   |\n",
    "\n",
    "These examples illustrate how to perform basic calculations..."
   ]
  },
  {
   "cell_type": "code",
   "execution_count": 3,
   "metadata": {},
   "outputs": [
    {
     "name": "stdout",
     "output_type": "stream",
     "text": [
      "The product of 5 and 10 is: 50\n",
      "The sum of 15 and 7 is: 22\n",
      "The result of (3 * 4) + 2 is: 14\n",
      "The result of 8 * 3 + 5 is: 29\n"
     ]
    }
   ],
   "source": [
    "# Multiplication\n",
    "product = 5 * 10\n",
    "print(f\"The product of 5 and 10 is: {product}\")\n",
    "\n",
    "# Addition\n",
    "sum_of_numbers = 15 + 7\n",
    "print(f\"The sum of 15 and 7 is: {sum_of_numbers}\")\n",
    "\n",
    "# Combining multiplication and addition\n",
    "result = (3 * 4) + 2  # Parentheses ensure multiplication happens first\n",
    "print(f\"The result of (3 * 4) + 2 is: {result}\")\n",
    "\n",
    "# Example with variables\n",
    "a = 8\n",
    "b = 3\n",
    "c = a * b + 5\n",
    "print(f\"The result of {a} * {b} + 5 is: {c}\")"
   ]
  },
  {
   "cell_type": "code",
   "execution_count": 4,
   "metadata": {
    "scrolled": true
   },
   "outputs": [
    {
     "name": "stdout",
     "output_type": "stream",
     "text": [
      "120 minutes is equal to 2.0 hours.\n",
      "75 minutes is equal to 1.25 hours.\n",
      "Invalid input: Minutes cannot be negative.\n",
      "Invalid input: Minutes must be a number.\n",
      "0 minutes is equal to 0.0 hours.\n"
     ]
    }
   ],
   "source": [
    "def minutes_to_hours(minutes):\n",
    "    \"\"\"Converts minutes to hours.\n",
    "\n",
    "    Args:\n",
    "        minutes: The number of minutes.\n",
    "\n",
    "    Returns:\n",
    "        The equivalent number of hours, or None if the input is invalid.\n",
    "    \"\"\"\n",
    "    if not isinstance(minutes, (int, float)):\n",
    "        print(\"Invalid input: Minutes must be a number.\")\n",
    "        return None  # Handle non-numeric input\n",
    "\n",
    "    if minutes < 0:\n",
    "        print(\"Invalid input: Minutes cannot be negative.\")\n",
    "        return None  # Handle negative input\n",
    "\n",
    "    hours = minutes / 60\n",
    "    return hours\n",
    "\n",
    "# Example usage:\n",
    "minutes1 = 120\n",
    "hours1 = minutes_to_hours(minutes1)\n",
    "if hours1 is not None:  # Check for valid conversion\n",
    "    print(f\"{minutes1} minutes is equal to {hours1} hours.\")\n",
    "\n",
    "minutes2 = 75\n",
    "hours2 = minutes_to_hours(minutes2)\n",
    "if hours2 is not None:\n",
    "    print(f\"{minutes2} minutes is equal to {hours2} hours.\")\n",
    "\n",
    "minutes3 = -30\n",
    "hours3 = minutes_to_hours(minutes3)\n",
    "minutes4 = \"abc\"\n",
    "hours4 = minutes_to_hours(minutes4)\n",
    "\n",
    "minutes5 = 0\n",
    "hours5 = minutes_to_hours(minutes5)\n",
    "if hours5 is not None:\n",
    "    print(f\"{minutes5} minutes is equal to {hours5} hours.\")"
   ]
  },
  {
   "cell_type": "markdown",
   "metadata": {},
   "source": [
    "## Objectives\n",
    "\n",
    "The objectives of this notebook are to:\n",
    "\n",
    "*   Demonstrate basic arithmetic operations in Python, including addition, subtraction, multiplication, division, and modulus.\n",
    "*   Implement a function to convert minutes to hours, including input validation to handle non-numeric and negative input.\n",
    "*   Illustrate the importance of input validation in functions by showing examples of how invalid input can lead to errors and how to prevent them."
   ]
  },
  {
   "cell_type": "markdown",
   "metadata": {},
   "source": [
    "## Author\n",
    "\n",
    "John Doe\n",
    "University of Example\n",
    "john.doe@example.com\n",
    "[https://github.com/johndoe](https://github.com/johndoe)"
   ]
  },
  {
   "cell_type": "code",
   "execution_count": null,
   "metadata": {},
   "outputs": [],
   "source": []
  }
 ],
 "metadata": {
  "kernelspec": {
   "display_name": "Python 3 (ipykernel)",
   "language": "python",
   "name": "python3"
  },
  "language_info": {
   "codemirror_mode": {
    "name": "ipython",
    "version": 3
   },
   "file_extension": ".py",
   "mimetype": "text/x-python",
   "name": "python",
   "nbconvert_exporter": "python",
   "pygments_lexer": "ipython3",
   "version": "3.11.9"
  }
 },
 "nbformat": 4,
 "nbformat_minor": 4
}
